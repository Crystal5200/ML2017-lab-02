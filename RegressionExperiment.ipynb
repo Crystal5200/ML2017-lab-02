{
 "cells": [
  {
   "cell_type": "code",
   "execution_count": 55,
   "metadata": {},
   "outputs": [],
   "source": [
    "import numpy\n",
    "import random\n",
    "import math\n",
    "from sklearn.datasets import load_svmlight_file\n",
    "from sklearn.model_selection import train_test_split\n",
    "from matplotlib import pyplot\n",
    "\n"
   ]
  },
  {
   "cell_type": "code",
   "execution_count": 56,
   "metadata": {
    "collapsed": true
   },
   "outputs": [],
   "source": [
    "def grad(x, y, w):                                  #逻辑回归\n",
    "    gradient = x * (y - x.dot(w.T))                 #求梯度   与线性回归一样   \n",
    "    return gradient\n",
    "\n",
    "def compute_loss(x, y, w, i):\n",
    "    loss = 0                                        #SGD的loss函数                                \n",
    "    for m in range(len(i)):\n",
    "        loss += 0.5 * ((y[i[m]] - x[i[m],:].dot(w.T)) ** 2)\n",
    "    return loss/len(i)"
   ]
  },
  {
   "cell_type": "code",
   "execution_count": 57,
   "metadata": {},
   "outputs": [
    {
     "ename": "IndentationError",
     "evalue": "unindent does not match any outer indentation level (<tokenize>, line 68)",
     "output_type": "error",
     "traceback": [
      "\u001b[1;36m  File \u001b[1;32m\"<tokenize>\"\u001b[1;36m, line \u001b[1;32m68\u001b[0m\n\u001b[1;33m    return w, loss_history, test_loss_history\u001b[0m\n\u001b[1;37m    ^\u001b[0m\n\u001b[1;31mIndentationError\u001b[0m\u001b[1;31m:\u001b[0m unindent does not match any outer indentation level\n"
     ]
    }
   ],
   "source": [
    "def NAG(x, y, x_test, y_test, w, C, r, gamma, threshold, count):\n",
    "    vt = numpy.zeros(w.shape)\n",
    "    loss_history = []\n",
    "    test_loss_history = []\n",
    "    random_index = []\n",
    "    random_test_index = []\n",
    "    for i in range(count):\n",
    "        random_num = random.randint(0, x.shape[0]-1)\n",
    "        random_test_num = random.randint(0, x_test.shape[0]-1)\n",
    "        random_index.append(random_num)\n",
    "        random_test_index.append(random_test_num)\n",
    "    for i in range(count):\n",
    "        gradient = grad(x[random_index[i],:], y[random_index[i]], w-gamma*vt)\n",
    "        vt = gamma*vt - r*gradient\n",
    "        w -= vt\n",
    "        loss = compute_loss(x, y, w, random_index)\n",
    "        loss_history.append(loss)\n",
    "        test_loss_history.append(compute_loss(x_test, y_test, w, random_test_index))\n",
    "        if loss < threshold :\n",
    "            break \n",
    "    return w, loss_history, test_loss_history\n",
    "\n",
    "def RMSProp(x, y, x_test, y_test, w, C, r, gamma, threshold, count):\n",
    "    Gt = 0\n",
    "    loss_history = []\n",
    "    test_loss_history = []\n",
    "    random_index = []\n",
    "    random_test_index = []\n",
    "    for i in range(count):\n",
    "        random_num = random.randint(0, x.shape[0]-1)\n",
    "        random_test_num = random.randint(0, x_test.shape[0]-1)\n",
    "        random_index.append(random_num)\n",
    "        random_test_index.append(random_test_num)\n",
    "    for i in range(count):\n",
    "        gradient = grad(x[random_index[i],:], y[random_index[i]], w)\n",
    "        Gt = gamma*Gt + (1-gamma)*gradient.dot(gradient.T)\n",
    "        w += r * gradient / math.sqrt(Gt+1e-8)\n",
    "        loss = compute_loss(x, y, w, random_index)\n",
    "        loss_history.append(loss)\n",
    "        test_loss_history.append(compute_loss(x_test, y_test, w, random_test_index))\n",
    "        if loss < threshold :\n",
    "            break \n",
    "    return w, loss_history, test_loss_history\n",
    "\n",
    "def AdaDelta(x, y, x_test, y_test, w, C, r, gamma, threshold, count):\n",
    "    Gt = 0\n",
    "    variable_t = 0\n",
    "    loss_history = []\n",
    "    test_loss_history = []\n",
    "    random_index = []\n",
    "    random_test_index = []\n",
    "    for i in range(count):\n",
    "        random_num = random.randint(0, x.shape[0]-1)\n",
    "        random_test_num = random.randint(0, x_test.shape[0]-1)\n",
    "        random_index.append(random_num)\n",
    "        random_test_index.append(random_test_num)\n",
    "for i in range(count):\n",
    "        gradient = grad(x[random_index[i],:], y[random_index[i]], w)\n",
    "        Gt = gamma*Gt + (1-gamma)*gradient.dot(gradient.T)\n",
    "        variable_w = - math.sqrt(variable_t + 1e-8) * gradient / math.sqrt(Gt + 1e-8)\n",
    "        w -= variable_w\n",
    "        variable_t = gamma*variable_t + (1-gamma)*variable_w.dot(variable_w.T)\n",
    "        loss = compute_loss(x, y, w, random_index)\n",
    "        loss_history.append(loss)\n",
    "        test_loss_history.append(compute_loss(x_test, y_test, w, random_test_index))\n",
    "        if loss < threshold :\n",
    "            break \n",
    "    return w, loss_history, test_loss_history\n",
    "\n",
    "def Adam(x, y, x_test, y_test, w, C, r, gamma, threshold, count):\n",
    "    Gt = 0\n",
    "    moment = numpy.zeros((1, x.shape[1]))\n",
    "    B = 0.9\n",
    "    loss_history = []\n",
    "    test_loss_history = []\n",
    "    random_index = []\n",
    "    random_test_index = []\n",
    "    for i in range(count):\n",
    "        random_num = random.randint(0, x.shape[0]-1)\n",
    "        random_test_num = random.randint(0, x_test.shape[0]-1)\n",
    "        random_index.append(random_num)\n",
    "        random_test_index.append(random_test_num)\n",
    "    for i in range(count):\n",
    "        gradient = grad(x[random_index[i],:], y[random_index[i]], w)\n",
    "        moment = B*moment + (1-B)*gradient\n",
    "        Gt = gamma*Gt + (1-gamma)*gradient.dot(gradient.T)\n",
    "        a = r * math.sqrt(1 - pow(gamma, count)) / (1-pow(B, count))\n",
    "        w += a * moment / math.sqrt(Gt + 1e-8)\n",
    "        loss = compute_loss(x, y, w, random_index)\n",
    "        loss_history.append(loss)\n",
    "        test_loss_history.append(compute_loss(x_test, y_test, w, random_test_index))\n",
    "        if loss < threshold :\n",
    "            break \n",
    "    return w, loss_history, test_loss_history"
   ]
  },
  {
   "cell_type": "code",
   "execution_count": 58,
   "metadata": {},
   "outputs": [
    {
     "name": "stdout",
     "output_type": "stream",
     "text": [
      "(32561, 124)\n",
      "(16281, 124)\n"
     ]
    }
   ],
   "source": [
    "x, y_train = load_svmlight_file(\"a9a.txt\")\n",
    "x, y_test = load_svmlight_file(\"a9a_test.txt\")\n",
    "\n",
    "X_train = numpy.hstack([x_train, numpy.ones((x_train.shape[0], 1))])    #X_train加一列1\n",
    "print(X_train.shape)\n",
    "X_test = numpy.hstack([x_test, numpy.zeros((x_test.shape[0], 1))])\n",
    "X_test = numpy.hstack([X_test, numpy.ones((x_test.shape[0], 1))])       #X_test加一列0 和1\n",
    "print(X_test.shape)\n"
   ]
  },
  {
   "cell_type": "code",
   "execution_count": 60,
   "metadata": {},
   "outputs": [
    {
     "data": {
      "image/png": "[encoded data removed]",
      "text/plain": [
       "<matplotlib.figure.Figure at 0x24e003b3390>"
      ]
     },
     "metadata": {},
     "output_type": "display_data"
    }
   ],
   "source": [
    "count = 500\n",
    "\n",
    "NAG_w = numpy.zeros((1, X_train.shape[1]))                    #初始化为0\n",
    "NAG_w, NAG_loss_history, NAG_test_loss_history = NAG(X_train, y_train, X_test, y_test, NAG_w, 0.3, 0.001, 0.9, 0.001, count)\n",
    "\n",
    "RMS_w = numpy.zeros((1, X_train.shape[1]))                    #初始化为0\n",
    "RMS_w, RMS_loss_history, RMS_test_loss_history = RMSProp(X_train, y_train, X_test, y_test, RMS_w, 0.3, 0.001, 0.9, 0.001, count)\n",
    "\n",
    "AdaDelta_w = numpy.zeros((1, X_train.shape[1]))                #初始化为0\n",
    "AdaDelta_w, AdaDelta_loss_history, AdaDelta_test_loss_history = AdaDelta(X_train, y_train, X_test, y_test, AdaDelta_w, 0.3, 0.001, 0.9, 0.001, count)\n",
    "\n",
    "Adam_w = numpy.zeros((1, X_train.shape[1]))                      #初始化为0\n",
    "Adam_w, Adam_loss_history, Adam_test_loss_history = Adam(X_train, y_train, X_test, y_test, Adam_w, 0.3, 0.001, 0.9, 0.001, count)\n",
    "\n",
    "\n",
    "pyplot.plot(NAG_test_loss_history, label = 'NAG_validation_loss')\n",
    "pyplot.plot(RMS_test_loss_history, label = 'RMSProp_validation_loss')\n",
    "pyplot.plot(AdaDelta_test_loss_history, label = 'AdaDelta_validation_loss')\n",
    "pyplot.plot(Adam_test_loss_history, label = 'Adam_validation_loss')\n",
    "pyplot.legend(loc='upper right')\n",
    "pyplot.ylabel('loss')\n",
    "pyplot.xlabel('count')\n",
    "pyplot.title('graph')\n",
    "pyplot.show()"
   ]
  },
  {
   "cell_type": "code",
   "execution_count": null,
   "metadata": {
    "collapsed": true
   },
   "outputs": [],
   "source": []
  },
  {
   "cell_type": "code",
   "execution_count": null,
   "metadata": {
    "collapsed": true
   },
   "outputs": [],
   "source": []
  }
 ],
 "metadata": {
  "kernelspec": {
   "display_name": "Python 3",
   "language": "python",
   "name": "python3"
  },
  "language_info": {
   "codemirror_mode": {
    "name": "ipython",
    "version": 3
   },
   "file_extension": ".py",
   "mimetype": "text/x-python",
   "name": "python",
   "nbconvert_exporter": "python",
   "pygments_lexer": "ipython3",
   "version": "3.6.2"
  }
 },
 "nbformat": 4,
 "nbformat_minor": 2
}
